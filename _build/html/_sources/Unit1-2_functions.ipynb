{
 "cells": [
  {
   "cell_type": "markdown",
   "id": "a62aa382-4226-4e78-a73c-7b85952046a1",
   "metadata": {},
   "source": [
    "#Functions\n",
    "\n",
    "Mathematical functions are practically the same things as functions in computer programming languages.\n",
    "For example, $f(x) = x^2 + 2x +3$ can be expresed in Python as"
   ]
  },
  {
   "cell_type": "code",
   "execution_count": 1,
   "id": "0336c27a-bd35-40dc-9566-ce6780c8ab89",
   "metadata": {},
   "outputs": [],
   "source": [
    "def f(x):\n",
    "    return x**2 + 2*x + 3"
   ]
  },
  {
   "cell_type": "markdown",
   "id": "cca0d21a-05fe-46f7-8f04-cd73097d0135",
   "metadata": {},
   "source": [
    "or, expressing it as a *lambda* function (a.k.a. anonymous function),"
   ]
  },
  {
   "cell_type": "code",
   "execution_count": 2,
   "id": "c94b90e8-4751-45ee-9501-ab13ca88a5da",
   "metadata": {},
   "outputs": [],
   "source": [
    "f = lambda x: x**2 + 2*x + 3"
   ]
  },
  {
   "cell_type": "code",
   "execution_count": null,
   "id": "4b40b9d0-8811-483a-8beb-9e047fb93d0d",
   "metadata": {},
   "outputs": [],
   "source": []
  }
 ],
 "metadata": {
  "kernelspec": {
   "display_name": "Python 3 (ipykernel)",
   "language": "python",
   "name": "python3"
  },
  "language_info": {
   "codemirror_mode": {
    "name": "ipython",
    "version": 3
   },
   "file_extension": ".py",
   "mimetype": "text/x-python",
   "name": "python",
   "nbconvert_exporter": "python",
   "pygments_lexer": "ipython3",
   "version": "3.11.4"
  }
 },
 "nbformat": 4,
 "nbformat_minor": 5
}
